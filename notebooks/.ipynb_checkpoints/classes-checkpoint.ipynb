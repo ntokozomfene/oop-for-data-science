{
 "cells": [
  {
   "cell_type": "code",
   "execution_count": 1,
   "metadata": {},
   "outputs": [],
   "source": [
    "import numpy as np\n",
    "import math\n",
    "import matplotlib.pyplot as plt"
   ]
  },
  {
   "cell_type": "markdown",
   "metadata": {},
   "source": [
    "# Error Calculator"
   ]
  },
  {
   "cell_type": "code",
   "execution_count": 2,
   "metadata": {},
   "outputs": [],
   "source": [
    "class ErrorCalculator:\n",
    "    \n",
    "    def __init__(self, y, y_pred):\n",
    "        import numpy as np\n",
    "        self.y= np.array(y)\n",
    "        self.y_pred= np.array(y_pred)\n",
    "        self.size= len(y)\n",
    "        self.check_size(y, y_pred)\n",
    "        \n",
    "    def check_size(self, y, y_pred):\n",
    "        if len(self.y)== len(self.y_pred):\n",
    "            return True\n",
    "        else:\n",
    "            raise ValueError(f'damn bro. size {self.y} and {self.y_pred}')\n",
    "            \n",
    "    def get_residuals(self):\n",
    "        #for each in self.y:\n",
    "        #    total_res= self.y_pred- self.y\n",
    "        #return total_res\n",
    "        return self.y_pred- self.y\n",
    "    \n",
    "    \n",
    "    def get_standardised_residuals(self):\n",
    "        resids= self.get_residuals()\n",
    "        self.std_resids= self.standard_scaler(resids)\n",
    "        #self.std_y_pred=  self.standard_scaler(self.y_pred)\n",
    "        #return self.std_y, self.std_y_pred\n",
    "        return self.std_resids\n",
    "        \n",
    "    \n",
    "    def standard_scaler(self, a):\n",
    "        standard_dev= np.std(a)\n",
    "        average= a.mean()\n",
    "        a_std= (a- average)/ standard_dev\n",
    "        return a_std  \n",
    "        \n",
    "    \n",
    "    def get_mse(self):\n",
    "        my_mse= sum((self.y_pred -self.y)**2/  len(self.y))\n",
    "        return my_mse\n",
    "    \n",
    "    def get_rmse(self):\n",
    "        rmse= math.sqrt(self.get_mse())\n",
    "        return rmse\n",
    "    \n",
    "    def error_summary(self):\n",
    "        resids= self.get_standardised_residuals()\n",
    "        print('error summary:')\n",
    "        print(f'average standard residuals: {resids.mean()}')\n",
    "        print(f'minimum standard residuals: {min(resids)}')\n",
    "        print(f'maximum standard residuals: {max(resids)}')\n",
    "        print(f'MSE: {self.get_mse()}')\n",
    "        print(f'RMSE: {self.get_rmse()}')"
   ]
  },
  {
   "cell_type": "code",
   "execution_count": 3,
   "metadata": {},
   "outputs": [
    {
     "data": {
      "text/plain": [
       "array([ 0.49578081, -1.39490873,  0.89912792])"
      ]
     },
     "execution_count": 3,
     "metadata": {},
     "output_type": "execute_result"
    }
   ],
   "source": [
    "a= [17,100,3]\n",
    "b=[2,10, 4]\n",
    "\n",
    "errors= ErrorCalculator(a,b)\n",
    "errors.get_standardised_residuals()"
   ]
  },
  {
   "cell_type": "code",
   "execution_count": 4,
   "metadata": {},
   "outputs": [
    {
     "data": {
      "text/plain": [
       "52.68143252924443"
      ]
     },
     "execution_count": 4,
     "metadata": {},
     "output_type": "execute_result"
    }
   ],
   "source": [
    "errors.get_rmse()"
   ]
  },
  {
   "cell_type": "code",
   "execution_count": 5,
   "metadata": {},
   "outputs": [
    {
     "name": "stdout",
     "output_type": "stream",
     "text": [
      "error summary:\n",
      "average standard residuals: -7.401486830834377e-17\n",
      "minimum standard residuals: -1.3949087322891296\n",
      "maximum standard residuals: 0.8991279178008244\n",
      "MSE: 2775.3333333333335\n",
      "RMSE: 52.68143252924443\n"
     ]
    }
   ],
   "source": [
    "errors.error_summary()"
   ]
  },
  {
   "cell_type": "markdown",
   "metadata": {},
   "source": [
    "# Plotter"
   ]
  },
  {
   "cell_type": "code",
   "execution_count": 6,
   "metadata": {},
   "outputs": [],
   "source": [
    "class Plotter:\n",
    "    def __init__(self, y, y_pred, residuals=None):\n",
    "        self.residuals= residuals\n",
    "        self.y= y\n",
    "        self.y_pred= y_pred\n",
    "    \n",
    "    def run_calculations(self):\n",
    "        resids= np.array(self.y)- np.array(self.y_pred)\n",
    "        return resids\n",
    "    \n",
    "    def plot(self):\n",
    "        if self.residuals is None:\n",
    "            self.residuals= self.run_calculations()\n",
    "        plt.hist(self.residuals)"
   ]
  },
  {
   "cell_type": "code",
   "execution_count": 7,
   "metadata": {},
   "outputs": [
    {
     "data": {
      "text/plain": [
       "[2, 10, 4]"
      ]
     },
     "execution_count": 7,
     "metadata": {},
     "output_type": "execute_result"
    }
   ],
   "source": [
    "b"
   ]
  },
  {
   "cell_type": "code",
   "execution_count": 8,
   "metadata": {},
   "outputs": [
    {
     "data": {
      "image/png": "[encoded data removed]",
      "text/plain": [
       "<Figure size 432x288 with 1 Axes>"
      ]
     },
     "metadata": {
      "needs_background": "light"
     },
     "output_type": "display_data"
    }
   ],
   "source": [
    "plots= Plotter(a,b)\n",
    "plots.plot()"
   ]
  },
  {
   "cell_type": "markdown",
   "metadata": {},
   "source": [
    "# Histogram plotter"
   ]
  },
  {
   "cell_type": "code",
   "execution_count": 9,
   "metadata": {},
   "outputs": [],
   "source": [
    "class HistogramPlotter(Plotter):\n",
    "    #same thing as its parent, so no need to do anything.\n",
    "    #use initialization of parent Plotter too\n",
    "    def __init__(self, y, y_pred):\n",
    "        super().__init__(y, y_pred)\n"
   ]
  },
  {
   "cell_type": "code",
   "execution_count": 10,
   "metadata": {},
   "outputs": [
    {
     "data": {
      "image/png": "[encoded data removed]",
      "text/plain": [
       "<Figure size 432x288 with 1 Axes>"
      ]
     },
     "metadata": {
      "needs_background": "light"
     },
     "output_type": "display_data"
    }
   ],
   "source": [
    "my_hist= HistogramPlotter(a, b)\n",
    "my_hist.plot()"
   ]
  },
  {
   "cell_type": "markdown",
   "metadata": {},
   "source": [
    "# ScatterPlotter"
   ]
  },
  {
   "cell_type": "code",
   "execution_count": 11,
   "metadata": {},
   "outputs": [],
   "source": [
    "class ScatterPlotter(Plotter):\n",
    "    def __init__(self, y, y_pred):\n",
    "        super().__init__(y, y_pred)\n",
    "    def plot(self):\n",
    "       # plt.scatter(self.y, self.y_pred)\n",
    "        if self.residuals is None:\n",
    "            self.residuals= self.run_calculations()\n",
    "        plt.scatter(self.residuals, self.y_pred)"
   ]
  },
  {
   "cell_type": "code",
   "execution_count": 12,
   "metadata": {},
   "outputs": [
    {
     "data": {
      "image/png": "[encoded data removed]",
      "text/plain": [
       "<Figure size 432x288 with 1 Axes>"
      ]
     },
     "metadata": {
      "needs_background": "light"
     },
     "output_type": "display_data"
    }
   ],
   "source": [
    "my_scatter= ScatterPlotter(a,b)\n",
    "my_scatter.plot()"
   ]
  },
  {
   "cell_type": "code",
   "execution_count": null,
   "metadata": {},
   "outputs": [],
   "source": []
  },
  {
   "cell_type": "code",
   "execution_count": null,
   "metadata": {},
   "outputs": [],
   "source": []
  }
 ],
 "metadata": {
  "kernelspec": {
   "display_name": "Python 3",
   "language": "python",
   "name": "python3"
  },
  "language_info": {
   "codemirror_mode": {
    "name": "ipython",
    "version": 3
   },
   "file_extension": ".py",
   "mimetype": "text/x-python",
   "name": "python",
   "nbconvert_exporter": "python",
   "pygments_lexer": "ipython3",
   "version": "3.7.3"
  }
 },
 "nbformat": 4,
 "nbformat_minor": 2
}
